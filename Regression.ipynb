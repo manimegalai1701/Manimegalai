{
  "nbformat": 4,
  "nbformat_minor": 0,
  "metadata": {
    "colab": {
      "name": "Regression.ipynb",
      "provenance": [],
      "collapsed_sections": [],
      "authorship_tag": "ABX9TyOP6UqxyoIfsOpIOMHVAFr8",
      "include_colab_link": true
    },
    "kernelspec": {
      "name": "python3",
      "display_name": "Python 3"
    }
  },
  "cells": [
    {
      "cell_type": "markdown",
      "metadata": {
        "id": "view-in-github",
        "colab_type": "text"
      },
      "source": [
        "<a href=\"https://colab.research.google.com/github/manimegalai1701/Manimegalai/blob/master/Regression.ipynb\" target=\"_parent\"><img src=\"https://colab.research.google.com/assets/colab-badge.svg\" alt=\"Open In Colab\"/></a>"
      ]
    },
    {
      "cell_type": "code",
      "metadata": {
        "id": "LzWsV0Tx8W2Y",
        "colab_type": "code",
        "colab": {}
      },
      "source": [
        "#importing library\n",
        "import numpy as np\n",
        "import pandas as pd\n",
        "from matplotlib import pyplot as plt\n",
        "from sklearn.datasets import load_boston"
      ],
      "execution_count": 0,
      "outputs": []
    },
    {
      "cell_type": "code",
      "metadata": {
        "id": "tOVciMpu89aE",
        "colab_type": "code",
        "outputId": "609e6db8-716c-444a-afd1-65d27cc23d4b",
        "colab": {
          "base_uri": "https://localhost:8080/",
          "height": 965
        }
      },
      "source": [
        "#loading the datasets\n",
        "boston=load_boston()\n",
        "print(boston.DESCR)"
      ],
      "execution_count": 2,
      "outputs": [
        {
          "output_type": "stream",
          "text": [
            ".. _boston_dataset:\n",
            "\n",
            "Boston house prices dataset\n",
            "---------------------------\n",
            "\n",
            "**Data Set Characteristics:**  \n",
            "\n",
            "    :Number of Instances: 506 \n",
            "\n",
            "    :Number of Attributes: 13 numeric/categorical predictive. Median Value (attribute 14) is usually the target.\n",
            "\n",
            "    :Attribute Information (in order):\n",
            "        - CRIM     per capita crime rate by town\n",
            "        - ZN       proportion of residential land zoned for lots over 25,000 sq.ft.\n",
            "        - INDUS    proportion of non-retail business acres per town\n",
            "        - CHAS     Charles River dummy variable (= 1 if tract bounds river; 0 otherwise)\n",
            "        - NOX      nitric oxides concentration (parts per 10 million)\n",
            "        - RM       average number of rooms per dwelling\n",
            "        - AGE      proportion of owner-occupied units built prior to 1940\n",
            "        - DIS      weighted distances to five Boston employment centres\n",
            "        - RAD      index of accessibility to radial highways\n",
            "        - TAX      full-value property-tax rate per $10,000\n",
            "        - PTRATIO  pupil-teacher ratio by town\n",
            "        - B        1000(Bk - 0.63)^2 where Bk is the proportion of blacks by town\n",
            "        - LSTAT    % lower status of the population\n",
            "        - MEDV     Median value of owner-occupied homes in $1000's\n",
            "\n",
            "    :Missing Attribute Values: None\n",
            "\n",
            "    :Creator: Harrison, D. and Rubinfeld, D.L.\n",
            "\n",
            "This is a copy of UCI ML housing dataset.\n",
            "https://archive.ics.uci.edu/ml/machine-learning-databases/housing/\n",
            "\n",
            "\n",
            "This dataset was taken from the StatLib library which is maintained at Carnegie Mellon University.\n",
            "\n",
            "The Boston house-price data of Harrison, D. and Rubinfeld, D.L. 'Hedonic\n",
            "prices and the demand for clean air', J. Environ. Economics & Management,\n",
            "vol.5, 81-102, 1978.   Used in Belsley, Kuh & Welsch, 'Regression diagnostics\n",
            "...', Wiley, 1980.   N.B. Various transformations are used in the table on\n",
            "pages 244-261 of the latter.\n",
            "\n",
            "The Boston house-price data has been used in many machine learning papers that address regression\n",
            "problems.   \n",
            "     \n",
            ".. topic:: References\n",
            "\n",
            "   - Belsley, Kuh & Welsch, 'Regression diagnostics: Identifying Influential Data and Sources of Collinearity', Wiley, 1980. 244-261.\n",
            "   - Quinlan,R. (1993). Combining Instance-Based and Model-Based Learning. In Proceedings on the Tenth International Conference of Machine Learning, 236-243, University of Massachusetts, Amherst. Morgan Kaufmann.\n",
            "\n"
          ],
          "name": "stdout"
        }
      ]
    },
    {
      "cell_type": "code",
      "metadata": {
        "id": "NncWuhpi92FQ",
        "colab_type": "code",
        "outputId": "79129600-64ac-4aa1-8dc4-7db564c3c5a4",
        "colab": {
          "base_uri": "https://localhost:8080/",
          "height": 254
        }
      },
      "source": [
        "#access the data attributes\n",
        "dataset=boston.data\n",
        "for name, index in enumerate(boston.feature_names):\n",
        "  print(index,name)"
      ],
      "execution_count": 3,
      "outputs": [
        {
          "output_type": "stream",
          "text": [
            "CRIM 0\n",
            "ZN 1\n",
            "INDUS 2\n",
            "CHAS 3\n",
            "NOX 4\n",
            "RM 5\n",
            "AGE 6\n",
            "DIS 7\n",
            "RAD 8\n",
            "TAX 9\n",
            "PTRATIO 10\n",
            "B 11\n",
            "LSTAT 12\n"
          ],
          "name": "stdout"
        }
      ]
    },
    {
      "cell_type": "code",
      "metadata": {
        "id": "q0QiculhCAJV",
        "colab_type": "code",
        "colab": {}
      },
      "source": [
        "#reshaping data\n",
        "data=dataset[:,12].reshape(-1,1)"
      ],
      "execution_count": 0,
      "outputs": []
    },
    {
      "cell_type": "code",
      "metadata": {
        "id": "4FtKtIjVCnnZ",
        "colab_type": "code",
        "outputId": "e1d6c904-4680-4870-85a5-fc610f046b3e",
        "colab": {
          "base_uri": "https://localhost:8080/",
          "height": 35
        }
      },
      "source": [
        "#shape of the data\n",
        "np.shape(dataset)\n"
      ],
      "execution_count": 5,
      "outputs": [
        {
          "output_type": "execute_result",
          "data": {
            "text/plain": [
              "(506, 13)"
            ]
          },
          "metadata": {
            "tags": []
          },
          "execution_count": 5
        }
      ]
    },
    {
      "cell_type": "code",
      "metadata": {
        "id": "gwEfPtYbC3b-",
        "colab_type": "code",
        "colab": {}
      },
      "source": [
        "#target values\n",
        "target=boston.target.reshape(-1,1)"
      ],
      "execution_count": 0,
      "outputs": []
    },
    {
      "cell_type": "code",
      "metadata": {
        "id": "SWJj909xDJQA",
        "colab_type": "code",
        "outputId": "176370a6-da60-4971-bef6-ea75c25686e3",
        "colab": {
          "base_uri": "https://localhost:8080/",
          "height": 35
        }
      },
      "source": [
        "#shape of target\n",
        "np.shape(target)"
      ],
      "execution_count": 7,
      "outputs": [
        {
          "output_type": "execute_result",
          "data": {
            "text/plain": [
              "(506, 1)"
            ]
          },
          "metadata": {
            "tags": []
          },
          "execution_count": 7
        }
      ]
    },
    {
      "cell_type": "code",
      "metadata": {
        "id": "EekmAAGVDUxx",
        "colab_type": "code",
        "outputId": "60f9a75d-8975-41eb-89bb-7f115f9cca3d",
        "colab": {
          "base_uri": "https://localhost:8080/",
          "height": 279
        }
      },
      "source": [
        "%matplotlib inline\n",
        "plt.scatter(data,target,color='orange')\n",
        "plt.xlabel('lower income population')\n",
        "plt.ylabel('cost of home')\n",
        "plt.show()"
      ],
      "execution_count": 8,
      "outputs": [
        {
          "output_type": "display_data",
          "data": {
            "image/png": "[encoded data removed]",
            "text/plain": [
              "<Figure size 432x288 with 1 Axes>"
            ]
          },
          "metadata": {
            "tags": [],
            "needs_background": "light"
          }
        }
      ]
    },
    {
      "cell_type": "code",
      "metadata": {
        "id": "QZ-cGxaKPrA3",
        "colab_type": "code",
        "colab": {}
      },
      "source": [
        ""
      ],
      "execution_count": 0,
      "outputs": []
    },
    {
      "cell_type": "code",
      "metadata": {
        "id": "-L2RIZ78EjoZ",
        "colab_type": "code",
        "outputId": "41f811f9-0010-4306-d35f-ddf3b9cf95b4",
        "colab": {
          "base_uri": "https://localhost:8080/",
          "height": 35
        }
      },
      "source": [
        "#regression\n",
        "from sklearn.linear_model import LinearRegression\n",
        "regression=LinearRegression()\n",
        "regression.fit(data,target)"
      ],
      "execution_count": 9,
      "outputs": [
        {
          "output_type": "execute_result",
          "data": {
            "text/plain": [
              "LinearRegression(copy_X=True, fit_intercept=True, n_jobs=None, normalize=False)"
            ]
          },
          "metadata": {
            "tags": []
          },
          "execution_count": 9
        }
      ]
    },
    {
      "cell_type": "code",
      "metadata": {
        "id": "wNocMmLPD8pT",
        "colab_type": "code",
        "colab": {}
      },
      "source": [
        "#prediction\n",
        "pred=regression.predict(data)"
      ],
      "execution_count": 0,
      "outputs": []
    },
    {
      "cell_type": "code",
      "metadata": {
        "id": "FOv5rGdtPwpL",
        "colab_type": "code",
        "outputId": "aa3bdfaf-fb1a-4ba5-8792-ac4f8e8abed8",
        "colab": {
          "base_uri": "https://localhost:8080/",
          "height": 1000
        }
      },
      "source": [
        "pred"
      ],
      "execution_count": 11,
      "outputs": [
        {
          "output_type": "execute_result",
          "data": {
            "text/plain": [
              "array([[29.8225951 ],\n",
              "       [25.87038979],\n",
              "       [30.72514198],\n",
              "       [31.76069578],\n",
              "       [29.49007782],\n",
              "       [29.60408375],\n",
              "       [22.74472741],\n",
              "       [16.36039575],\n",
              "       [ 6.11886372],\n",
              "       [18.30799693],\n",
              "       [15.1253316 ],\n",
              "       [21.94668596],\n",
              "       [19.62856553],\n",
              "       [26.70643322],\n",
              "       [24.80633451],\n",
              "       [26.50692285],\n",
              "       [28.30251613],\n",
              "       [20.61661686],\n",
              "       [23.44776393],\n",
              "       [23.83728417],\n",
              "       [14.58380346],\n",
              "       [21.41465832],\n",
              "       [16.76891698],\n",
              "       [15.66685973],\n",
              "       [19.06803641],\n",
              "       [18.86852605],\n",
              "       [20.48360995],\n",
              "       [18.13698805],\n",
              "       [22.39320915],\n",
              "       [23.17224962],\n",
              "       [13.08272548],\n",
              "       [22.16519731],\n",
              "       [ 8.22797329],\n",
              "       [17.12043524],\n",
              "       [15.22983702],\n",
              "       [25.35736314],\n",
              "       [23.71377775],\n",
              "       [26.22190805],\n",
              "       [24.92984093],\n",
              "       [30.44962767],\n",
              "       [32.67274316],\n",
              "       [29.95560201],\n",
              "       [29.03405413],\n",
              "       [27.48547369],\n",
              "       [25.48086955],\n",
              "       [24.85383698],\n",
              "       [21.11064252],\n",
              "       [16.69291303],\n",
              "       [ 5.28282029],\n",
              "       [19.16304135],\n",
              "       [21.77567707],\n",
              "       [25.59487547],\n",
              "       [29.53758029],\n",
              "       [26.54492483],\n",
              "       [20.49311044],\n",
              "       [29.98410349],\n",
              "       [29.07205611],\n",
              "       [30.80114593],\n",
              "       [28.03650231],\n",
              "       [25.79438584],\n",
              "       [22.06069188],\n",
              "       [20.83512821],\n",
              "       [28.16000873],\n",
              "       [25.52837202],\n",
              "       [26.90594358],\n",
              "       [30.1171104 ],\n",
              "       [24.8253355 ],\n",
              "       [26.85844111],\n",
              "       [22.11769484],\n",
              "       [26.20290706],\n",
              "       [28.16950922],\n",
              "       [25.16735326],\n",
              "       [29.30956845],\n",
              "       [27.39046875],\n",
              "       [28.11250626],\n",
              "       [26.06039966],\n",
              "       [23.18175011],\n",
              "       [24.79683402],\n",
              "       [22.83023185],\n",
              "       [25.90839176],\n",
              "       [29.5280798 ],\n",
              "       [27.69448455],\n",
              "       [28.16950922],\n",
              "       [27.41897023],\n",
              "       [25.4143661 ],\n",
              "       [28.3500186 ],\n",
              "       [22.33620619],\n",
              "       [26.53542433],\n",
              "       [29.32856943],\n",
              "       [29.13855956],\n",
              "       [26.18390607],\n",
              "       [26.76343618],\n",
              "       [26.80143815],\n",
              "       [28.65403439],\n",
              "       [24.49281822],\n",
              "       [28.23601268],\n",
              "       [23.78028121],\n",
              "       [30.5541331 ],\n",
              "       [31.16216469],\n",
              "       [28.67303538],\n",
              "       [25.60437597],\n",
              "       [27.26696234],\n",
              "       [24.45481625],\n",
              "       [21.78517756],\n",
              "       [22.83973235],\n",
              "       [18.90652802],\n",
              "       [16.82591994],\n",
              "       [21.16764548],\n",
              "       [22.89673531],\n",
              "       [19.78057343],\n",
              "       [22.20319928],\n",
              "       [24.90133945],\n",
              "       [19.15354085],\n",
              "       [18.31749742],\n",
              "       [24.62582513],\n",
              "       [19.58106306],\n",
              "       [23.11524666],\n",
              "       [24.76833254],\n",
              "       [19.95158231],\n",
              "       [21.62366917],\n",
              "       [20.90163167],\n",
              "       [20.9966366 ],\n",
              "       [17.51945597],\n",
              "       [10.4130868 ],\n",
              "       [17.85197324],\n",
              "       [20.48360995],\n",
              "       [ 8.6554955 ],\n",
              "       [18.22249249],\n",
              "       [19.93258133],\n",
              "       [17.12993573],\n",
              "       [22.58321902],\n",
              "       [22.9062358 ],\n",
              "       [23.98929207],\n",
              "       [20.27459909],\n",
              "       [18.10848657],\n",
              "       [18.44100384],\n",
              "       [18.4980068 ],\n",
              "       [20.69262081],\n",
              "       [14.29878866],\n",
              "       [17.01592981],\n",
              "       [11.60064849],\n",
              "       [ 1.86264262],\n",
              "       [ 9.07351721],\n",
              "       [ 9.45353695],\n",
              "       [ 6.72689531],\n",
              "       [ 8.14246884],\n",
              "       [18.73551914],\n",
              "       [ 6.49888346],\n",
              "       [ 7.64844318],\n",
              "       [14.17528224],\n",
              "       [21.15814499],\n",
              "       [21.93718546],\n",
              "       [23.03924271],\n",
              "       [19.55256158],\n",
              "       [20.18909465],\n",
              "       [20.28409959],\n",
              "       [19.22004431],\n",
              "       [30.19311435],\n",
              "       [28.44502353],\n",
              "       [27.53297616],\n",
              "       [29.32856943],\n",
              "       [32.9102555 ],\n",
              "       [32.72974612],\n",
              "       [31.39967702],\n",
              "       [23.4952664 ],\n",
              "       [25.23385672],\n",
              "       [31.03865827],\n",
              "       [23.02024172],\n",
              "       [24.00829305],\n",
              "       [23.79928219],\n",
              "       [20.8446287 ],\n",
              "       [23.12474715],\n",
              "       [20.59761587],\n",
              "       [25.96539472],\n",
              "       [25.39536511],\n",
              "       [29.49007782],\n",
              "       [24.94884191],\n",
              "       [28.57803044],\n",
              "       [27.97949935],\n",
              "       [29.76559214],\n",
              "       [27.37146776],\n",
              "       [25.57587449],\n",
              "       [29.97460299],\n",
              "       [29.15756055],\n",
              "       [21.27215091],\n",
              "       [22.06069188],\n",
              "       [30.32612126],\n",
              "       [28.2075112 ],\n",
              "       [30.22161583],\n",
              "       [29.43307486],\n",
              "       [29.70858918],\n",
              "       [30.09810941],\n",
              "       [31.82719923],\n",
              "       [29.77509263],\n",
              "       [30.39262471],\n",
              "       [31.7321943 ],\n",
              "       [30.67763952],\n",
              "       [26.37391594],\n",
              "       [28.26451416],\n",
              "       [30.22161583],\n",
              "       [30.32612126],\n",
              "       [27.49497418],\n",
              "       [31.59918739],\n",
              "       [30.93415284],\n",
              "       [31.81769874],\n",
              "       [24.2268044 ],\n",
              "       [24.13179947],\n",
              "       [17.39594955],\n",
              "       [20.62611735],\n",
              "       [12.6172013 ],\n",
              "       [18.14648854],\n",
              "       [11.77165738],\n",
              "       [19.32454974],\n",
              "       [25.64237794],\n",
              "       [ 6.47988248],\n",
              "       [25.5568735 ],\n",
              "       [21.71867411],\n",
              "       [25.34786264],\n",
              "       [17.52895646],\n",
              "       [24.57832266],\n",
              "       [25.32886165],\n",
              "       [14.16578175],\n",
              "       [25.1198508 ],\n",
              "       [27.33346579],\n",
              "       [30.62063655],\n",
              "       [30.15511237],\n",
              "       [31.5801864 ],\n",
              "       [28.51152699],\n",
              "       [30.82964741],\n",
              "       [30.98165531],\n",
              "       [23.48576591],\n",
              "       [29.56608177],\n",
              "       [32.20721898],\n",
              "       [30.80114593],\n",
              "       [26.90594358],\n",
              "       [24.21730391],\n",
              "       [25.49037004],\n",
              "       [30.06010744],\n",
              "       [28.51152699],\n",
              "       [27.55197714],\n",
              "       [23.74227923],\n",
              "       [22.77322889],\n",
              "       [23.89428713],\n",
              "       [29.62308473],\n",
              "       [22.67822396],\n",
              "       [17.01592981],\n",
              "       [25.8513888 ],\n",
              "       [24.91083994],\n",
              "       [25.50937103],\n",
              "       [28.32151712],\n",
              "       [28.94854969],\n",
              "       [31.1431637 ],\n",
              "       [31.20016666],\n",
              "       [31.19066617],\n",
              "       [28.31201663],\n",
              "       [25.76588436],\n",
              "       [31.59918739],\n",
              "       [29.68958819],\n",
              "       [27.15295641],\n",
              "       [27.99850034],\n",
              "       [25.44286758],\n",
              "       [27.65648257],\n",
              "       [28.9390492 ],\n",
              "       [23.86578565],\n",
              "       [26.85844111],\n",
              "       [24.62582513],\n",
              "       [20.50261094],\n",
              "       [27.48547369],\n",
              "       [31.55168492],\n",
              "       [21.5856672 ],\n",
              "       [22.20319928],\n",
              "       [28.29301564],\n",
              "       [27.20995937],\n",
              "       [28.30251613],\n",
              "       [31.20016666],\n",
              "       [31.72269381],\n",
              "       [28.80604229],\n",
              "       [30.60163557],\n",
              "       [27.72298603],\n",
              "       [29.94610151],\n",
              "       [30.98165531],\n",
              "       [30.19311435],\n",
              "       [31.69419232],\n",
              "       [31.55168492],\n",
              "       [27.09595345],\n",
              "       [26.7349347 ],\n",
              "       [22.26970274],\n",
              "       [27.77048849],\n",
              "       [27.33346579],\n",
              "       [25.51887153],\n",
              "       [31.39017653],\n",
              "       [31.17166518],\n",
              "       [30.08860892],\n",
              "       [26.40241742],\n",
              "       [24.6733276 ],\n",
              "       [28.59703143],\n",
              "       [27.53297616],\n",
              "       [19.50505912],\n",
              "       [29.83209559],\n",
              "       [30.05060694],\n",
              "       [28.7870413 ],\n",
              "       [25.52837202],\n",
              "       [26.31691298],\n",
              "       [29.93660102],\n",
              "       [27.96999886],\n",
              "       [26.06990015],\n",
              "       [28.40702156],\n",
              "       [27.39996925],\n",
              "       [30.24061681],\n",
              "       [25.08184882],\n",
              "       [22.54521705],\n",
              "       [28.87254574],\n",
              "       [23.41926245],\n",
              "       [27.04845098],\n",
              "       [25.73738288],\n",
              "       [23.62827331],\n",
              "       [17.13943622],\n",
              "       [19.41005418],\n",
              "       [24.71132957],\n",
              "       [22.45971261],\n",
              "       [27.71348553],\n",
              "       [28.02700182],\n",
              "       [27.23846086],\n",
              "       [23.40026147],\n",
              "       [28.73953883],\n",
              "       [29.72759016],\n",
              "       [28.71103735],\n",
              "       [22.40270964],\n",
              "       [25.08184882],\n",
              "       [27.58047862],\n",
              "       [25.91789225],\n",
              "       [22.74472741],\n",
              "       [27.11495444],\n",
              "       [29.15756055],\n",
              "       [28.14100774],\n",
              "       [26.94394556],\n",
              "       [25.24335721],\n",
              "       [24.5213197 ],\n",
              "       [26.46892088],\n",
              "       [25.30036017],\n",
              "       [25.72788238],\n",
              "       [29.33806993],\n",
              "       [26.33591397],\n",
              "       [27.73248652],\n",
              "       [30.17411336],\n",
              "       [24.54982118],\n",
              "       [22.51671557],\n",
              "       [28.51152699],\n",
              "       [28.86304525],\n",
              "       [28.95805019],\n",
              "       [28.87254574],\n",
              "       [29.33806993],\n",
              "       [27.15295641],\n",
              "       [30.27861879],\n",
              "       [26.90594358],\n",
              "       [29.26206598],\n",
              "       [17.83297225],\n",
              "       [21.94668596],\n",
              "       [23.6472743 ],\n",
              "       [22.51671557],\n",
              "       [27.15295641],\n",
              "       [21.07264055],\n",
              "       [24.87283796],\n",
              "       [20.64511834],\n",
              "       [29.5280798 ],\n",
              "       [27.78948948],\n",
              "       [21.25314993],\n",
              "       [21.88968299],\n",
              "       [31.45667999],\n",
              "       [31.01015679],\n",
              "       [31.74169479],\n",
              "       [25.49987054],\n",
              "       [26.11740262],\n",
              "       [ 1.52062485],\n",
              "       [-1.51953308],\n",
              "       [21.78517756],\n",
              "       [12.4746939 ],\n",
              "       [14.37479261],\n",
              "       [12.04717169],\n",
              "       [13.86176595],\n",
              "       [18.2034915 ],\n",
              "       [14.5268005 ],\n",
              "       [12.13267613],\n",
              "       [11.22062875],\n",
              "       [ 5.45382917],\n",
              "       [ 5.28282029],\n",
              "       [ 7.68644516],\n",
              "       [ 4.16176205],\n",
              "       [ 5.46332967],\n",
              "       [14.74531185],\n",
              "       [18.29849644],\n",
              "       [16.730915  ],\n",
              "       [10.15657347],\n",
              "       [20.14159218],\n",
              "       [19.02053395],\n",
              "       [18.28899594],\n",
              "       [16.1513849 ],\n",
              "       [15.62885775],\n",
              "       [ 5.49183115],\n",
              "       [ 6.08086175],\n",
              "       [ 9.12101968],\n",
              "       [15.24883801],\n",
              "       [15.2583385 ],\n",
              "       [15.77136516],\n",
              "       [ 8.54148957],\n",
              "       [12.72170673],\n",
              "       [12.37968896],\n",
              "       [23.02974222],\n",
              "       [ 9.47253794],\n",
              "       [15.76186466],\n",
              "       [24.94884191],\n",
              "       [14.39379359],\n",
              "       [ 1.90064459],\n",
              "       [15.47684986],\n",
              "       [-0.57898422],\n",
              "       [ 6.95490715],\n",
              "       [10.05206805],\n",
              "       [ 9.2445261 ],\n",
              "       [14.9638232 ],\n",
              "       [12.94971857],\n",
              "       [20.28409959],\n",
              "       [19.63806603],\n",
              "       [21.15814499],\n",
              "       [12.42719143],\n",
              "       [18.25099397],\n",
              "       [11.38213714],\n",
              "       [19.64756652],\n",
              "       [20.75912426],\n",
              "       [14.10877879],\n",
              "       [11.67665244],\n",
              "       [17.79497028],\n",
              "       [15.8473691 ],\n",
              "       [23.12474715],\n",
              "       [19.14404036],\n",
              "       [20.14159218],\n",
              "       [12.44619242],\n",
              "       [17.40545004],\n",
              "       [ 9.42503547],\n",
              "       [ 2.23316186],\n",
              "       [12.81671167],\n",
              "       [13.54824967],\n",
              "       [16.00887749],\n",
              "       [18.7925221 ],\n",
              "       [16.64541056],\n",
              "       [11.95216675],\n",
              "       [11.77165738],\n",
              "       [17.65246288],\n",
              "       [18.9350295 ],\n",
              "       [17.3294461 ],\n",
              "       [16.20838786],\n",
              "       [17.98498015],\n",
              "       [17.70946584],\n",
              "       [18.14648854],\n",
              "       [18.6500147 ],\n",
              "       [16.77841747],\n",
              "       [17.3294461 ],\n",
              "       [16.49340266],\n",
              "       [18.46000483],\n",
              "       [19.13453987],\n",
              "       [20.58811538],\n",
              "       [18.95403049],\n",
              "       [20.63561785],\n",
              "       [21.26265042],\n",
              "       [24.77783303],\n",
              "       [21.99418842],\n",
              "       [21.12964351],\n",
              "       [18.26049446],\n",
              "       [14.29878866],\n",
              "       [17.3294461 ],\n",
              "       [20.53111242],\n",
              "       [19.07753691],\n",
              "       [22.3267057 ],\n",
              "       [20.91113216],\n",
              "       [23.47626541],\n",
              "       [17.3199456 ],\n",
              "       [11.65765145],\n",
              "       [16.80691895],\n",
              "       [10.88811148],\n",
              "       [17.42445103],\n",
              "       [22.09869385],\n",
              "       [24.35031082],\n",
              "       [27.20045888],\n",
              "       [27.89399491],\n",
              "       [24.65432661],\n",
              "       [21.8801825 ],\n",
              "       [24.50231872],\n",
              "       [20.32210156],\n",
              "       [23.67577578],\n",
              "       [17.39594955],\n",
              "       [11.78115787],\n",
              "       [ 6.35637606],\n",
              "       [17.38644906],\n",
              "       [21.87068201],\n",
              "       [23.14374814],\n",
              "       [21.64267016],\n",
              "       [17.83297225],\n",
              "       [14.46979754],\n",
              "       [21.15814499],\n",
              "       [22.27920323],\n",
              "       [20.20809564],\n",
              "       [20.93963364],\n",
              "       [25.36686363],\n",
              "       [25.92739275],\n",
              "       [29.19556252],\n",
              "       [28.39752107],\n",
              "       [27.06745197]])"
            ]
          },
          "metadata": {
            "tags": []
          },
          "execution_count": 11
        }
      ]
    },
    {
      "cell_type": "code",
      "metadata": {
        "id": "nfwjMNnXPzXo",
        "colab_type": "code",
        "outputId": "5e71665d-1289-4daa-b9ff-ecadfccfa0c3",
        "colab": {
          "base_uri": "https://localhost:8080/",
          "height": 279
        }
      },
      "source": [
        "%matplotlib inline\n",
        "plt.scatter(data,target,color='orange')\n",
        "plt.plot(data,pred,color='red')\n",
        "plt.xlabel('lower income population')\n",
        "plt.ylabel('cost of home')\n",
        "plt.show()"
      ],
      "execution_count": 12,
      "outputs": [
        {
          "output_type": "display_data",
          "data": {
            "image/png": "[encoded data removed]",
            "text/plain": [
              "<Figure size 432x288 with 1 Axes>"
            ]
          },
          "metadata": {
            "tags": [],
            "needs_background": "light"
          }
        }
      ]
    },
    {
      "cell_type": "code",
      "metadata": {
        "id": "GTARaQGNtp4f",
        "colab_type": "code",
        "colab": {}
      },
      "source": [
        "#circumventing curve inline using polynomial model\n",
        "from sklearn.preprocessing import PolynomialFeatures\n",
        "#to allow merging of models\n",
        "from sklearn.pipeline import make_pipeline"
      ],
      "execution_count": 0,
      "outputs": []
    },
    {
      "cell_type": "code",
      "metadata": {
        "id": "8LfT9iXdu0Lu",
        "colab_type": "code",
        "colab": {}
      },
      "source": [
        "model=make_pipeline(PolynomialFeatures(3),regression)"
      ],
      "execution_count": 0,
      "outputs": []
    },
    {
      "cell_type": "code",
      "metadata": {
        "id": "RFIGMfTIvJKw",
        "colab_type": "code",
        "colab": {
          "base_uri": "https://localhost:8080/",
          "height": 163
        },
        "outputId": "ea8b7b3f-4d60-485b-f5af-ef8a5bfe5144"
      },
      "source": [
        "model.fit(data,target)"
      ],
      "execution_count": 16,
      "outputs": [
        {
          "output_type": "execute_result",
          "data": {
            "text/plain": [
              "Pipeline(memory=None,\n",
              "         steps=[('polynomialfeatures',\n",
              "                 PolynomialFeatures(degree=3, include_bias=True,\n",
              "                                    interaction_only=False, order='C')),\n",
              "                ('linearregression',\n",
              "                 LinearRegression(copy_X=True, fit_intercept=True, n_jobs=None,\n",
              "                                  normalize=False))],\n",
              "         verbose=False)"
            ]
          },
          "metadata": {
            "tags": []
          },
          "execution_count": 16
        }
      ]
    },
    {
      "cell_type": "code",
      "metadata": {
        "id": "zVqt7sOzvQjx",
        "colab_type": "code",
        "colab": {}
      },
      "source": [
        "pred=model.predict(data)"
      ],
      "execution_count": 0,
      "outputs": []
    },
    {
      "cell_type": "code",
      "metadata": {
        "id": "Jz4QT8lwvloj",
        "colab_type": "code",
        "colab": {
          "base_uri": "https://localhost:8080/",
          "height": 279
        },
        "outputId": "d6173188-8970-4427-9d6e-0add5d7228b7"
      },
      "source": [
        "%matplotlib inline\n",
        "plt.scatter(data,target,color='orange')\n",
        "plt.plot(data,pred,color='red')\n",
        "plt.xlabel('lower income population')\n",
        "plt.ylabel('cost of home')\n",
        "plt.show()"
      ],
      "execution_count": 18,
      "outputs": [
        {
          "output_type": "display_data",
          "data": {
            "image/png": "[encoded data removed]",
            "text/plain": [
              "<Figure size 432x288 with 1 Axes>"
            ]
          },
          "metadata": {
            "tags": [],
            "needs_background": "light"
          }
        }
      ]
    },
    {
      "cell_type": "code",
      "metadata": {
        "id": "ctYPu6QovyCX",
        "colab_type": "code",
        "colab": {}
      },
      "source": [
        "#r_2 metrics\n",
        "from sklearn.metrics import r2_score\n"
      ],
      "execution_count": 0,
      "outputs": []
    },
    {
      "cell_type": "code",
      "metadata": {
        "id": "LrgAiMqxwZFm",
        "colab_type": "code",
        "colab": {
          "base_uri": "https://localhost:8080/",
          "height": 35
        },
        "outputId": "011335b3-6b70-4865-9a19-9477374babad"
      },
      "source": [
        "#predict\n",
        "r2_score(pred,target)"
      ],
      "execution_count": 20,
      "outputs": [
        {
          "output_type": "execute_result",
          "data": {
            "text/plain": [
              "0.47989118102738904"
            ]
          },
          "metadata": {
            "tags": []
          },
          "execution_count": 20
        }
      ]
    },
    {
      "cell_type": "code",
      "metadata": {
        "id": "SdUaDODUwnto",
        "colab_type": "code",
        "colab": {}
      },
      "source": [
        ""
      ],
      "execution_count": 0,
      "outputs": []
    }
  ]
}